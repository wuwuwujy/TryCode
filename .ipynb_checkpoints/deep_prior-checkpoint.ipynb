{
 "cells": [
  {
   "cell_type": "code",
   "execution_count": 1,
   "metadata": {
    "colab": {
     "base_uri": "https://localhost:8080/",
     "height": 166
    },
    "colab_type": "code",
    "executionInfo": {
     "elapsed": 35354,
     "status": "ok",
     "timestamp": 1576450576305,
     "user": {
      "displayName": "Based",
      "photoUrl": "",
      "userId": "13264666381940570579"
     },
     "user_tz": 360
    },
    "id": "rLX1FU-9GgZd",
    "outputId": "501c7d69-5b9f-4018-ce18-7f1bebde8abf"
   },
   "outputs": [
    {
     "ename": "ModuleNotFoundError",
     "evalue": "No module named 'google.colab'",
     "output_type": "error",
     "traceback": [
      "\u001b[0;31m---------------------------------------------------------------------------\u001b[0m",
      "\u001b[0;31mModuleNotFoundError\u001b[0m                       Traceback (most recent call last)",
      "\u001b[0;32m<ipython-input-1-a59c77bf6408>\u001b[0m in \u001b[0;36m<module>\u001b[0;34m\u001b[0m\n\u001b[1;32m      1\u001b[0m \u001b[0;31m#Colab specific code\u001b[0m\u001b[0;34m\u001b[0m\u001b[0;34m\u001b[0m\u001b[0;34m\u001b[0m\u001b[0m\n\u001b[1;32m      2\u001b[0m \u001b[0;34m\u001b[0m\u001b[0m\n\u001b[0;32m----> 3\u001b[0;31m \u001b[0;32mfrom\u001b[0m \u001b[0mgoogle\u001b[0m\u001b[0;34m.\u001b[0m\u001b[0mcolab\u001b[0m \u001b[0;32mimport\u001b[0m \u001b[0mdrive\u001b[0m\u001b[0;34m\u001b[0m\u001b[0;34m\u001b[0m\u001b[0m\n\u001b[0m\u001b[1;32m      4\u001b[0m \u001b[0mdrive\u001b[0m\u001b[0;34m.\u001b[0m\u001b[0mmount\u001b[0m\u001b[0;34m(\u001b[0m\u001b[0;34m'/content/drive/'\u001b[0m\u001b[0;34m)\u001b[0m\u001b[0;34m\u001b[0m\u001b[0;34m\u001b[0m\u001b[0m\n\u001b[1;32m      5\u001b[0m \u001b[0mget_ipython\u001b[0m\u001b[0;34m(\u001b[0m\u001b[0;34m)\u001b[0m\u001b[0;34m.\u001b[0m\u001b[0mrun_line_magic\u001b[0m\u001b[0;34m(\u001b[0m\u001b[0;34m'cd'\u001b[0m\u001b[0;34m,\u001b[0m \u001b[0;34m'/content/drive/My\\\\ Drive/deep-image-prior-master'\u001b[0m\u001b[0;34m)\u001b[0m\u001b[0;34m\u001b[0m\u001b[0;34m\u001b[0m\u001b[0m\n",
      "\u001b[0;31mModuleNotFoundError\u001b[0m: No module named 'google.colab'"
     ]
    }
   ],
   "source": [
    "#Colab specific code\n",
    "\n",
    "from google.colab import drive\n",
    "drive.mount('/content/drive/')\n",
    "%cd /content/drive/My\\ Drive/deep-image-prior-master\n",
    "!pwd"
   ]
  },
  {
   "cell_type": "code",
   "execution_count": 2,
   "metadata": {
    "colab": {},
    "colab_type": "code",
    "id": "ocki1btbFxpy"
   },
   "outputs": [
    {
     "ename": "ModuleNotFoundError",
     "evalue": "No module named 'models'",
     "output_type": "error",
     "traceback": [
      "\u001b[0;31m---------------------------------------------------------------------------\u001b[0m",
      "\u001b[0;31mModuleNotFoundError\u001b[0m                       Traceback (most recent call last)",
      "\u001b[0;32m<ipython-input-2-1715fde2771e>\u001b[0m in \u001b[0;36m<module>\u001b[0;34m\u001b[0m\n\u001b[1;32m      8\u001b[0m \u001b[0;34m\u001b[0m\u001b[0m\n\u001b[1;32m      9\u001b[0m \u001b[0;32mfrom\u001b[0m \u001b[0mskimage\u001b[0m\u001b[0;34m.\u001b[0m\u001b[0mmeasure\u001b[0m \u001b[0;32mimport\u001b[0m \u001b[0mcompare_psnr\u001b[0m\u001b[0;34m\u001b[0m\u001b[0;34m\u001b[0m\u001b[0m\n\u001b[0;32m---> 10\u001b[0;31m \u001b[0;32mfrom\u001b[0m \u001b[0mmodels\u001b[0m\u001b[0;34m.\u001b[0m\u001b[0mdownsampler\u001b[0m \u001b[0;32mimport\u001b[0m \u001b[0mDownsampler\u001b[0m\u001b[0;34m\u001b[0m\u001b[0;34m\u001b[0m\u001b[0m\n\u001b[0m\u001b[1;32m     11\u001b[0m \u001b[0;34m\u001b[0m\u001b[0m\n\u001b[1;32m     12\u001b[0m \u001b[0;32mfrom\u001b[0m \u001b[0mutils\u001b[0m\u001b[0;34m.\u001b[0m\u001b[0msr_utils\u001b[0m \u001b[0;32mimport\u001b[0m \u001b[0;34m*\u001b[0m\u001b[0;34m\u001b[0m\u001b[0;34m\u001b[0m\u001b[0m\n",
      "\u001b[0;31mModuleNotFoundError\u001b[0m: No module named 'models'"
     ]
    }
   ],
   "source": [
    "from __future__ import print_function\n",
    "import matplotlib.pyplot as plt\n",
    "%matplotlib inline\n",
    "\n",
    "import argparse\n",
    "import os\n",
    "# os.environ['CUDA_VISIBLE_DEVICES'] = '1'\n",
    "\n",
    "from skimage.measure import compare_psnr\n",
    "from models.downsampler import Downsampler\n",
    "\n",
    "from utils.sr_utils import *\n",
    "\n",
    "import numpy as np\n",
    "from models import *\n",
    "\n",
    "import torch\n",
    "import torch.optim\n",
    "\n",
    "torch.backends.cudnn.enabled = True\n",
    "torch.backends.cudnn.benchmark = True\n",
    "dtype = torch.cuda.FloatTensor\n",
    "\n",
    "imsize =-1 \n",
    "factor = 4\n",
    "enforse_div32 = 'CROP' \n",
    "\n",
    "PLOT = False"
   ]
  },
  {
   "cell_type": "code",
   "execution_count": 0,
   "metadata": {
    "colab": {},
    "colab_type": "code",
    "id": "x5m6Cl3AF3Mv"
   },
   "outputs": [],
   "source": [
    "#Define imagesets and load\n",
    "\n",
    "Set5 = {\"baby\": \"img_001_SRF_2_\", \"bird\": \"img_002_SRF_2_\", \"butterfly\": \"img_003_SRF_2_\", \"head\": 'img_004_SRF_2_', \"woman\": 'img_005_SRF_2_'}\n",
    "Set14 = {\"baboon\": \"img_001_SRF_2_\", \"barbara\": \"img_002_SRF_2_\", \"bridge\": \"img_003_SRF_2_\", \"coastguard\":\"img_004_SRF_2_\", \"comic\":\"img_005_SRF_2_\", \"face\":\"img_006_SRF_2_\", \"flowers\":\"img_007_SRF_2_\", \"foreman\":\"img_008_SRF_2_\", \"lenna\":\"img_009_SRF_2_\", \"man\":\"img_010_SRF_2_\", \"monarch\":\"img_011_SRF_2_\", \"pepper\":\"img_012_SRF_2_\", \"ppt3\":\"img_013_SRF_2_\", \"zebra\": \"img_014_SRF_2_\"}\n",
    "\n",
    "set_5 = \"Set5/\"\n",
    "set_14 =\"Set14/\"\n"
   ]
  },
  {
   "cell_type": "code",
   "execution_count": 0,
   "metadata": {
    "colab": {},
    "colab_type": "code",
    "id": "4nkZcaFWTIZO"
   },
   "outputs": [],
   "source": [
    "def process_output(result_deep_prior, psnr_history_deep_prior, IMAGE):\n",
    "    print(\"Last PSNR: \", psnr_history_deep_prior)\n",
    "    print(result_deep_prior.shape)\n",
    "    plt.imshow(np.clip(result_deep_prior.transpose(1,2,0), 0, 1))\n",
    "    outfile = \"loopoutput/SR_deep_prior_SKIP_\" + str(IMAGE) + \".png\"\n",
    "    plt.imsave(outfile, (np.clip(result_deep_prior.transpose(1,2,0), 0, 1)))\n",
    "    #Write the PSNR here or return them to take some averages"
   ]
  },
  {
   "cell_type": "code",
   "execution_count": 0,
   "metadata": {
    "colab": {},
    "colab_type": "code",
    "id": "cCgc0wLpfYwc"
   },
   "outputs": [],
   "source": [
    "#fname -- The filename from the imageset (ie, 5 or 14)\n",
    "#IMAGE, the name of the image, (ie, bird, woman)\n",
    "def process_image(fname, IMAGE):\n",
    "    imgs = load_LR_HR_imgs_sr(fname, imsize, factor, enforse_div32)\n",
    "\n",
    "    if PLOT:\n",
    "        imgs['bicubic_np'], imgs['sharp_np'], imgs['nearest_np'] = get_baselines(imgs['LR_pil'], imgs['HR_pil'])\n",
    "        plot_image_grid([imgs['HR_np'], imgs['bicubic_np'], imgs['sharp_np'], imgs['nearest_np']], 4,12);\n",
    "        print ('PSNR bicubic: %.4f   PSNR nearest: %.4f' %  (\n",
    "                                            compare_psnr(imgs['HR_np'], imgs['bicubic_np']), \n",
    "                                            compare_psnr(imgs['HR_np'], imgs['nearest_np'])))\n",
    "        \n",
    "    i = 0\n",
    "    def closure():\n",
    "        \n",
    "        nonlocal i, net_input\n",
    "        \n",
    "        \n",
    "        if reg_noise_std > 0:\n",
    "            net_input = net_input_saved + (noise.normal_() * reg_noise_std)\n",
    "            \n",
    "        out_HR = net(net_input)\n",
    "        out_LR = downsampler(out_HR)\n",
    "\n",
    "        total_loss = mse(out_LR, img_LR_var) + tv_weight * tv_loss(out_HR)\n",
    "        total_loss.backward()\n",
    "\n",
    "        # Log\n",
    "        psnr_LR = compare_psnr(imgs['LR_np'], torch_to_np(out_LR))\n",
    "        psnr_HR = compare_psnr(imgs['HR_np'], torch_to_np(out_HR))\n",
    "        print ('Iteration %05d    PSNR_LR %.3f   PSNR_HR %.3f' % (i, psnr_LR, psnr_HR), '\\r', end='')\n",
    "                          \n",
    "        # History\n",
    "        psnr_history.append([psnr_LR, psnr_HR])\n",
    "        \n",
    "        if PLOT and i % 500 == 0:\n",
    "            out_HR_np = torch_to_np(out_HR)\n",
    "            plot_image_grid([imgs['HR_np'], np.clip(out_HR_np, 0, 1)], factor=8, nrow=2, interpolation='lanczos')\n",
    "\n",
    "        i += 1\n",
    "        \n",
    "        return total_loss\n",
    "\n",
    "    input_depth = 3\n",
    "     \n",
    "    INPUT = 'noise'\n",
    "    pad = 'reflection'\n",
    "    OPT_OVER = 'input'\n",
    "    KERNEL_TYPE='lanczos2'\n",
    "\n",
    "    LR = 0.01\n",
    "    tv_weight = 0.0\n",
    "\n",
    "    OPTIMIZER = 'adam'\n",
    "\n",
    "    num_iter = 2000\n",
    "    reg_noise_std = 0.0\n",
    "\n",
    "    # Identity mapping network, optimize over `net_input`\n",
    "    net = nn.Sequential()\n",
    "    net_input = get_noise(input_depth, INPUT, (imgs['HR_pil'].size[1], imgs['HR_pil'].size[0])).type(dtype).detach()\n",
    "\n",
    "    downsampler = Downsampler(n_planes=3, factor=factor, kernel_type='lanczos2', phase=0.5, preserve_size=True).type(dtype)\n",
    "\n",
    "    # Loss\n",
    "    mse = torch.nn.MSELoss().type(dtype)\n",
    "\n",
    "    img_LR_var = np_to_torch(imgs['LR_np']).type(dtype)\n",
    "\n",
    "    psnr_history = [] \n",
    "    net_input_saved = net_input.detach().clone()\n",
    "    noise = net_input.detach().clone()\n",
    "     \n",
    "    p = get_params(OPT_OVER, net, net_input)\n",
    "    optimize(OPTIMIZER, p, closure, LR, num_iter)\n",
    "\n",
    "    out_HR_np = np.clip(torch_to_np(net(net_input)), 0, 1)\n",
    "\n",
    "    result_no_prior = put_in_center(out_HR_np, imgs['orig_np'].shape[1:])\n",
    "    psnr_history_direct = psnr_history\n",
    "\n",
    "    net_input = get_noise(input_depth, INPUT, (imgs['HR_pil'].size[1], imgs['HR_pil'].size[0])).type(dtype).detach()\n",
    "\n",
    "    psnr_history = [] \n",
    "     \n",
    "    p = get_params(OPT_OVER, net, net_input)\n",
    "    optimize(OPTIMIZER, p, closure, LR, num_iter)\n",
    "    out_HR_np = np.clip(torch_to_np(net(net_input)), 0, 1)\n",
    "\n",
    "    result_tv_prior = put_in_center(out_HR_np, imgs['orig_np'].shape[1:])\n",
    "    psnr_history_tv = psnr_history\n",
    "\n",
    "    #Deep prior part\n",
    "    OPT_OVER = 'net'\n",
    "    reg_noise_std = 1./30. \n",
    "    tv_weight = 0.0\n",
    "\n",
    "    net = skip().type(torch.cuda.FloatTensor)\n",
    "\n",
    "    net_input = get_noise(input_depth, INPUT, (imgs['HR_pil'].size[1], imgs['HR_pil'].size[0])).type(dtype).detach()\n",
    "\n",
    "    # Compute number of parameters\n",
    "    s  = sum([np.prod(list(p.size())) for p in net.parameters()]); \n",
    "    print ('Number of params: %d' % s)\n",
    "\n",
    "    psnr_history = [] \n",
    "    net_input_saved = net_input.detach().clone()\n",
    "    noise = net_input.detach().clone()\n",
    "\n",
    "    i = 0\n",
    "    p = get_params(OPT_OVER, net, net_input)\n",
    "    optimize(OPTIMIZER, p, closure, LR, num_iter)\n",
    "\n",
    "    out_HR_np = np.clip(torch_to_np(net(net_input)), 0, 1)\n",
    "\n",
    "    result_deep_prior = put_in_center(out_HR_np, imgs['orig_np'].shape[1:])\n",
    "    psnr_history_deep_prior = psnr_history\n",
    "    process_output(result_deep_prior, psnr_history_deep_prior, IMAGE)\n"
   ]
  },
  {
   "cell_type": "code",
   "execution_count": 0,
   "metadata": {
    "colab": {
     "base_uri": "https://localhost:8080/",
     "height": 72
    },
    "colab_type": "code",
    "executionInfo": {
     "elapsed": 50646,
     "status": "error",
     "timestamp": 1576450237337,
     "user": {
      "displayName": "Based",
      "photoUrl": "",
      "userId": "13264666381940570579"
     },
     "user_tz": 360
    },
    "id": "5Q0ygmINYs_r",
    "outputId": "b2be477d-89f7-43da-e777-322ff644876d"
   },
   "outputs": [
    {
     "name": "stdout",
     "output_type": "stream",
     "text": [
      "HR and LR resolutions: (256, 256), (64, 64)\n",
      "Starting optimization with ADAM\n",
      "Starting optimization with ADAM\n"
     ]
    }
   ],
   "source": [
    "  #Loop through all images in a set\n",
    "  #for IMAGE in Set5:\n",
    "  #    fname  = set_5 + Set5[IMAGE] + \"HR\" + \".png\"\n",
    "  #    process_image(fname, IMAGE)\n",
    "  #    net.summary()\n",
    "\n",
    "  #Compare two of them\n",
    "  #Butterfly\n",
    "  fname  = set_5 + Set5[\"butterfly\"] + \"HR\" + \".png\"\n",
    "  process_image(fname, \"butterfly\")\n",
    "\n",
    "  #Barbara\n",
    "  fname  = set_14 + Set14[\"barbara\"] + \"HR\" + \".png\"\n",
    "  process_image(fname, \"barbara\")"
   ]
  }
 ],
 "metadata": {
  "accelerator": "GPU",
  "colab": {
   "collapsed_sections": [],
   "name": "deep_prior.ipynb",
   "provenance": []
  },
  "kernelspec": {
   "display_name": "Python 3",
   "language": "python",
   "name": "python3"
  },
  "language_info": {
   "codemirror_mode": {
    "name": "ipython",
    "version": 3
   },
   "file_extension": ".py",
   "mimetype": "text/x-python",
   "name": "python",
   "nbconvert_exporter": "python",
   "pygments_lexer": "ipython3",
   "version": "3.7.4"
  }
 },
 "nbformat": 4,
 "nbformat_minor": 1
}
